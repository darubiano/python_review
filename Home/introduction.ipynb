{
 "cells": [
  {
   "cell_type": "markdown",
   "metadata": {},
   "source": [
    "## Curso Udemy\n",
    "https://www.udemy.com/join/login-popup/?next=/course/python-3-al-completo-desde-cero"
   ]
  },
  {
   "cell_type": "code",
   "execution_count": 14,
   "metadata": {},
   "outputs": [],
   "source": [
    "from fractions import Fraction"
   ]
  },
  {
   "cell_type": "markdown",
   "metadata": {},
   "source": [
    "## numeros"
   ]
  },
  {
   "cell_type": "code",
   "execution_count": 55,
   "metadata": {},
   "outputs": [
    {
     "data": {
      "text/plain": [
       "1000000"
      ]
     },
     "execution_count": 55,
     "metadata": {},
     "output_type": "execute_result"
    }
   ],
   "source": [
    "a = 56 #número en base 10\n",
    "b = 0b10000000 #número en base 2\n",
    "B = 0B10000001 # numero binario\n",
    "c = 0o232573 #número en base 8\n",
    "d = 0x23AF5B #número en base 16\n",
    "D = 0XFFBBa3 #número en base 16\n",
    "i = 1_000_000  #Se puede usar un guión bajo para mejorar la legibilidad de números grandes\n",
    "i"
   ]
  },
  {
   "cell_type": "code",
   "execution_count": 56,
   "metadata": {},
   "outputs": [
    {
     "data": {
      "text/plain": [
       "1000000"
      ]
     },
     "execution_count": 56,
     "metadata": {},
     "output_type": "execute_result"
    }
   ],
   "source": [
    "# ultimo valor retornado por una función\n",
    "ultimo_valor = _\n",
    "ultimo_valor"
   ]
  },
  {
   "cell_type": "markdown",
   "metadata": {},
   "source": [
    "## operaciones"
   ]
  },
  {
   "cell_type": "code",
   "execution_count": 57,
   "metadata": {},
   "outputs": [
    {
     "name": "stdout",
     "output_type": "stream",
     "text": [
      "x=8, y=59\n",
      "Suma 67\n",
      "Resta -51\n",
      "Multiplicacion 472\n",
      "Division 7.375\n",
      "Division entera 7\n",
      "Potencia 146830437604321\n",
      "Modulo 3\n",
      "Fraccion 8/59\n"
     ]
    },
    {
     "data": {
      "text/plain": [
       "'95'"
      ]
     },
     "execution_count": 57,
     "metadata": {},
     "output_type": "execute_result"
    }
   ],
   "source": [
    "x,y = 8,59\n",
    "print(f'x={x}, y={y}')\n",
    "print(f'Suma {x+y}')\n",
    "print(f'Resta {x-y}')\n",
    "print(f'Multiplicacion {x*y}')\n",
    "print(f'Division {y/x}')\n",
    "print(f'Division entera {y//x}')\n",
    "print(f'Potencia {y**x}')\n",
    "print(f'Modulo {y%x}')\n",
    "print(f'Fraccion {Fraction(x,y)}')\n",
    "str(y)[::-1]"
   ]
  },
  {
   "cell_type": "markdown",
   "metadata": {},
   "source": [
    "## Texto"
   ]
  },
  {
   "cell_type": "code",
   "execution_count": 89,
   "metadata": {},
   "outputs": [
    {
     "name": "stdout",
     "output_type": "stream",
     "text": [
      "Inicio \\nHola \\'mundo|sep final"
     ]
    },
    {
     "data": {
      "text/plain": [
       "\"\\n Hola 'mundo\\n Hola 'mundo\""
      ]
     },
     "execution_count": 89,
     "metadata": {},
     "output_type": "execute_result"
    }
   ],
   "source": [
    "# \\n enter \\t tab \\r retorno de carro\n",
    "hola = r\"\"\"\\nHola \\'mundo\"\"\"\n",
    "print(f\"Inicio {hola}\",\"sep\", end=' final', sep='|')\n",
    "print(\"\\n Hola \\'mundo\"*2)"
   ]
  },
  {
   "cell_type": "code",
   "execution_count": 96,
   "metadata": {},
   "outputs": [
    {
     "name": "stdout",
     "output_type": "stream",
     "text": [
      "b'A'\n",
      "C:\\windows\n",
      "Fichier non trouvé\n",
      "      Hola\n"
     ]
    }
   ],
   "source": [
    "# letra binaria\n",
    "print(b'A')\n",
    "# raw string\n",
    "print(r'C:\\windows')\n",
    "# string unicode\n",
    "print(u\"Fichier non trouvé\")\n",
    "print(f\"{'Hola':>10}\")"
   ]
  },
  {
   "cell_type": "code",
   "execution_count": 223,
   "metadata": {},
   "outputs": [
    {
     "data": {
      "text/plain": [
       "['capitalize',\n",
       " 'casefold',\n",
       " 'center',\n",
       " 'count',\n",
       " 'encode',\n",
       " 'endswith',\n",
       " 'expandtabs',\n",
       " 'find',\n",
       " 'format',\n",
       " 'format_map',\n",
       " 'index',\n",
       " 'isalnum',\n",
       " 'isalpha',\n",
       " 'isascii',\n",
       " 'isdecimal',\n",
       " 'isdigit',\n",
       " 'isidentifier',\n",
       " 'islower',\n",
       " 'isnumeric',\n",
       " 'isprintable',\n",
       " 'isspace',\n",
       " 'istitle',\n",
       " 'isupper',\n",
       " 'join',\n",
       " 'ljust',\n",
       " 'lower',\n",
       " 'lstrip',\n",
       " 'maketrans',\n",
       " 'partition',\n",
       " 'replace',\n",
       " 'rfind',\n",
       " 'rindex',\n",
       " 'rjust',\n",
       " 'rpartition',\n",
       " 'rsplit',\n",
       " 'rstrip',\n",
       " 'split',\n",
       " 'splitlines',\n",
       " 'startswith',\n",
       " 'strip',\n",
       " 'swapcase',\n",
       " 'title',\n",
       " 'translate',\n",
       " 'upper',\n",
       " 'zfill']"
      ]
     },
     "execution_count": 223,
     "metadata": {},
     "output_type": "execute_result"
    }
   ],
   "source": [
    "# Metodo str()\n",
    "list(filter(lambda x: '__' not in x,dir(str)))"
   ]
  },
  {
   "cell_type": "code",
   "execution_count": 224,
   "metadata": {},
   "outputs": [
    {
     "name": "stdout",
     "output_type": "stream",
     "text": [
      "Primer letra mayuscula:\n",
      "Texto 123456789 @ $ % & | ~ pythön!1\n",
      "\n",
      "Todo en mayuscula:\n",
      "TEXTO 123456789 @ $ % & | ~ PYTHÖN!1\n",
      "\n",
      "Todo en minuscula:\n",
      "texto 123456789 @ $ % & | ~ pythön!1\n",
      "\n",
      "Todo en minuscula unicode:\n",
      "texto 123456789 @ $ % & | ~ pythön!1\n",
      "\n",
      "Centrar texto para un total de 50 caracteres\n",
      "*******textO 123456789 @ $ % & | ~ pythön!1*******\n",
      "\n",
      "Contar caracteres @:\n",
      "1\n",
      "\n",
      "Encoding texto:\n",
      "b'textO 123456789 @ $ % & | ~ pyth\\xc3\\xb6n!1'\n",
      "\n",
      "Texto que termina con !:\n",
      "False\n",
      "\n",
      "Buscar el primer caracter y retornar su posicion:\n",
      "1\n",
      "\n",
      "4\n",
      "Unir texto:\n",
      " textO123456789@$%&|~pythön!1\n",
      "Replace caracter:\n",
      "textO 123456789  $ % & | ~ pythön!1\n",
      "Replace multiple caracter:\n",
      "textO |23456789  $ % & | ~ pythön!|\n"
     ]
    }
   ],
   "source": [
    "# Metodos str() \n",
    "texto = \"textO 123456789 @ $ % & | ~ pythön!1\" \n",
    "#\n",
    "print(f\"Primer letra mayuscula:\\n{texto.capitalize()}\\n\")\n",
    "print(f\"Todo en mayuscula:\\n{texto.upper()}\\n\")\n",
    "print(f\"Todo en minuscula:\\n{texto.lower()}\\n\")\n",
    "print(f\"Todo en minuscula unicode:\\n{texto.casefold()}\\n\")\n",
    "print(f\"Centrar texto para un total de 50 caracteres\\n{texto.center(50,'*')}\\n\")\n",
    "#\n",
    "print(f\"Contar caracteres @:\\n{texto.count('@')}\\n\")\n",
    "print(f'Encoding texto:\\n{texto.encode(encoding=\"utf-8\",errors=\"replace\")}\\n')\n",
    "print(f\"Texto que termina con !:\\n{texto.endswith('!')}\\n\")\n",
    "print(f'Buscar el primer caracter y retornar su posicion:\\n{texto[texto.find(\"1\")]}\\n')\n",
    "print(texto.index('O'))\n",
    "#\n",
    "print(f\"Unir texto:\\n {''.join(texto.split())}\")\n",
    "print(f\"Replace caracter:\\n{texto.replace('@','')}\")\n",
    "# ord() retorna el valor ascii de un caracter\n",
    "print(f\"Replace multiple caracter:\\n{texto.translate({ord('@'):'',ord('1'):'|'})}\")"
   ]
  },
  {
   "cell_type": "code",
   "execution_count": 237,
   "metadata": {},
   "outputs": [
    {
     "data": {
      "text/plain": [
       "['__add__',\n",
       " '__class__',\n",
       " '__contains__',\n",
       " '__delattr__',\n",
       " '__dir__',\n",
       " '__doc__',\n",
       " '__eq__',\n",
       " '__format__',\n",
       " '__ge__',\n",
       " '__getattribute__',\n",
       " '__getitem__',\n",
       " '__getnewargs__',\n",
       " '__gt__',\n",
       " '__hash__',\n",
       " '__init__',\n",
       " '__init_subclass__',\n",
       " '__iter__',\n",
       " '__le__',\n",
       " '__len__',\n",
       " '__lt__',\n",
       " '__mod__',\n",
       " '__mul__',\n",
       " '__ne__',\n",
       " '__new__',\n",
       " '__reduce__',\n",
       " '__reduce_ex__',\n",
       " '__repr__',\n",
       " '__rmod__',\n",
       " '__rmul__',\n",
       " '__setattr__',\n",
       " '__sizeof__',\n",
       " '__str__',\n",
       " '__subclasshook__']"
      ]
     },
     "execution_count": 237,
     "metadata": {},
     "output_type": "execute_result"
    }
   ],
   "source": [
    "list(filter(lambda x: '__' in x,dir(str)))\n",
    "#\"asdf\".__contains__('a')"
   ]
  },
  {
   "cell_type": "markdown",
   "metadata": {},
   "source": [
    "## Listas"
   ]
  },
  {
   "cell_type": "markdown",
   "metadata": {},
   "source": [
    "![title](img/index_list.png)"
   ]
  },
  {
   "cell_type": "code",
   "execution_count": 304,
   "metadata": {},
   "outputs": [
    {
     "data": {
      "text/plain": [
       "[10, 9, 8, 7, 6, 5, 4, 3, 2, 1]"
      ]
     },
     "execution_count": 304,
     "metadata": {},
     "output_type": "execute_result"
    }
   ],
   "source": [
    "lista = [1,2,3,4,5,6,7,8,9,10]\n",
    "copy_lista = lista.copy()\n",
    "# lista inversa\n",
    "lista[::-1]"
   ]
  },
  {
   "cell_type": "code",
   "execution_count": 305,
   "metadata": {},
   "outputs": [
    {
     "data": {
      "text/plain": [
       "['append',\n",
       " 'clear',\n",
       " 'copy',\n",
       " 'count',\n",
       " 'extend',\n",
       " 'index',\n",
       " 'insert',\n",
       " 'pop',\n",
       " 'remove',\n",
       " 'reverse',\n",
       " 'sort']"
      ]
     },
     "execution_count": 305,
     "metadata": {},
     "output_type": "execute_result"
    }
   ],
   "source": [
    "# Metodos de list\n",
    "list(filter(lambda x: '__' not in x,dir(list)))"
   ]
  },
  {
   "cell_type": "code",
   "execution_count": 306,
   "metadata": {},
   "outputs": [
    {
     "name": "stdout",
     "output_type": "stream",
     "text": [
      "Agregar elemento \n",
      "[1, 2, 3, 4, 5, 6, 7, 8, 9, 10, 11]\n",
      "Contar numero 11\n",
      "1\n",
      "Agregar lista a la lista \n",
      "[1, 2, 3, 4, 5, 6, 7, 8, 9, 10, 11, 12, 13, 14]\n",
      "Buscar index de 12 \n",
      "11\n",
      "Insertar valor en el index 2 \n",
      "[1, 2, 15, 3, 4, 5, 6, 7, 8, 9, 10, 11, 12, 13, 14]\n",
      "Remover valor en el index 2 \n",
      "[1, 2, 3, 4, 5, 6, 7, 8, 9, 10, 11, 12, 13, 14]\n",
      "Remover el numero 2 \n",
      "[1, 3, 4, 5, 6, 7, 8, 9, 10, 11, 12, 13, 14]\n",
      "Reverso \n",
      "[14, 13, 12, 11, 10, 9, 8, 7, 6, 5, 4, 3, 1]\n",
      "Ordenar \n",
      "[1, 3, 4, 5, 6, 7, 8, 9, 10, 11, 12, 13, 14]\n",
      "[1, 2, 3, 4, 5, 6, 7, 8, 9, 10]\n"
     ]
    }
   ],
   "source": [
    "lista.append(11)\n",
    "print(f\"Agregar elemento \\n{lista}\")\n",
    "print(f\"Contar numero 11\\n{lista.count(11)}\")\n",
    "lista.extend([12,13,14])\n",
    "print(f\"Agregar lista a la lista \\n{lista}\")\n",
    "print(f\"Buscar index de 12 \\n{lista.index(12)}\")\n",
    "lista.insert(2,15)\n",
    "print(f\"Insertar valor en el index 2 \\n{lista}\")\n",
    "lista.pop(2)\n",
    "print(f\"Remover valor en el index 2 \\n{lista}\")\n",
    "lista.remove(2)\n",
    "print(f\"Remover el numero 2 \\n{lista}\")\n",
    "lista.reverse()\n",
    "print(f\"Reverso \\n{lista}\")\n",
    "lista.sort()\n",
    "print(f\"Ordenar \\n{lista}\")\n",
    "print(copy_lista)"
   ]
  },
  {
   "cell_type": "code",
   "execution_count": 307,
   "metadata": {},
   "outputs": [
    {
     "name": "stdout",
     "output_type": "stream",
     "text": [
      "Longitud 13\n",
      "Unir lista en str 1 3 4 5 6 7 8 9 10 11 12 13 14\n",
      "Numero maximo: 14\n",
      "Numero minimo: 1\n",
      "Sumar elementos: 103\n",
      "Lista a tupla: (1, 3, 4, 5, 6, 7, 8, 9, 10, 11, 12, 13, 14)\n",
      "Lista a conjunto: {1, 3, 4, 5, 6, 7, 8, 9, 10, 11, 12, 13, 14}\n"
     ]
    }
   ],
   "source": [
    "print(f\"Longitud {len(lista)}\")\n",
    "print(f\"Unir lista en str {' '.join(map(str,lista))}\")\n",
    "print(f\"Numero maximo: {max(lista)}\")\n",
    "print(f\"Numero minimo: {min(lista)}\")\n",
    "print(f\"Sumar elementos: {sum(lista)}\")\n",
    "print(f\"Lista a tupla: {tuple(lista)}\")\n",
    "print(f\"Lista a conjunto: {set(lista)}\")"
   ]
  },
  {
   "cell_type": "code",
   "execution_count": 287,
   "metadata": {},
   "outputs": [
    {
     "data": {
      "text/plain": [
       "['__add__',\n",
       " '__class__',\n",
       " '__contains__',\n",
       " '__delattr__',\n",
       " '__delitem__',\n",
       " '__dir__',\n",
       " '__doc__',\n",
       " '__eq__',\n",
       " '__format__',\n",
       " '__ge__',\n",
       " '__getattribute__',\n",
       " '__getitem__',\n",
       " '__gt__',\n",
       " '__hash__',\n",
       " '__iadd__',\n",
       " '__imul__',\n",
       " '__init__',\n",
       " '__init_subclass__',\n",
       " '__iter__',\n",
       " '__le__',\n",
       " '__len__',\n",
       " '__lt__',\n",
       " '__mul__',\n",
       " '__ne__',\n",
       " '__new__',\n",
       " '__reduce__',\n",
       " '__reduce_ex__',\n",
       " '__repr__',\n",
       " '__reversed__',\n",
       " '__rmul__',\n",
       " '__setattr__',\n",
       " '__setitem__',\n",
       " '__sizeof__',\n",
       " '__str__',\n",
       " '__subclasshook__']"
      ]
     },
     "execution_count": 287,
     "metadata": {},
     "output_type": "execute_result"
    }
   ],
   "source": [
    "list(filter(lambda x: '__' in x,dir(list)))"
   ]
  },
  {
   "cell_type": "code",
   "execution_count": 312,
   "metadata": {},
   "outputs": [
    {
     "name": "stdout",
     "output_type": "stream",
     "text": [
      "Unpacked list: (1, 2, 3, 4, 3)\n",
      "Unir lista: [1, 2, 3, 4, 3, 1, 2, 3, 4, 3]\n",
      "Unir lista: [1, 2, 3, 4, 3, 1, 2, 3, 4, 3]\n"
     ]
    }
   ],
   "source": [
    "a = [1, 2, 3,4,3]\n",
    "print(f\"Unpacked list: {*a,}\")\n",
    "print(f\"Unir lista: {[*a,*a]}\")\n",
    "print(f\"Unir lista: {a+a}\")"
   ]
  },
  {
   "cell_type": "markdown",
   "metadata": {},
   "source": [
    "## If else switcher"
   ]
  },
  {
   "cell_type": "code",
   "execution_count": 319,
   "metadata": {},
   "outputs": [
    {
     "name": "stdout",
     "output_type": "stream",
     "text": [
      "a es menor que b\n",
      "If inline: false\n"
     ]
    }
   ],
   "source": [
    "a,b = 1,2\n",
    "\n",
    "if a == b:\n",
    "    print(\"a es igual a b\")\n",
    "elif a > b:\n",
    "    print(\"a es mayor que b\")\n",
    "else:\n",
    "    print(\"a es menor que b\")\n",
    "#\n",
    "print(f\"If inline: { 'true' if a == b else 'false' }\")"
   ]
  },
  {
   "cell_type": "code",
   "execution_count": 328,
   "metadata": {},
   "outputs": [
    {
     "name": "stdout",
     "output_type": "stream",
     "text": [
      "validar 4: cuatro\n",
      "validar default: default\n",
      "validar 4: dos\n",
      "validar default: default\n"
     ]
    }
   ],
   "source": [
    "def switcher(x):\n",
    "    return {\n",
    "        1: \"uno\",\n",
    "        2: \"dos\",\n",
    "        3: \"tres\",\n",
    "        4: \"cuatro\"\n",
    "    }.get(x, \"default\")\n",
    "\n",
    "print(f\"validar 4: {switcher(4)}\")\n",
    "print(f\"validar default: {switcher(456)}\")\n",
    "# switcher inline\n",
    "switcher_inline = lambda x: {1:\"uno\",2:\"dos\",3:\"tres\",4:\"cuatro\"}.get(x, \"default\") \n",
    "print(f\"validar 4: {switcher_inline(2)}\")\n",
    "print(f\"validar default: {switcher_inline('asdf')}\")"
   ]
  },
  {
   "cell_type": "markdown",
   "metadata": {},
   "source": [
    "## Ciclos For y while"
   ]
  },
  {
   "cell_type": "code",
   "execution_count": 341,
   "metadata": {},
   "outputs": [
    {
     "name": "stdout",
     "output_type": "stream",
     "text": [
      "1\n",
      "2\n",
      "3\n",
      "4\n",
      "5\n",
      "fin while\n",
      "1\n",
      "2\n"
     ]
    }
   ],
   "source": [
    "# while simple\n",
    "i = 1\n",
    "while i < 6:\n",
    "    print(i)\n",
    "    i += 1\n",
    "else:\n",
    "    print(\"fin while\")\n",
    "# while inline\n",
    "i = 1\n",
    "while i<3: print(i); i+=1"
   ]
  },
  {
   "cell_type": "code",
   "execution_count": 18,
   "metadata": {},
   "outputs": [
    {
     "name": "stdout",
     "output_type": "stream",
     "text": [
      "Lista: |0|1|\n",
      "Lista: |1|2|\n",
      "Lista: |2|3|\n",
      "Lista: |3|4|\n",
      "Lista: |4|5|\n",
      "Lista: |5|6|\n",
      "Lista: |6|7|\n",
      "Lista: |7|8|\n",
      "Lista: |8|9|\n",
      "Lista: |9|10|\n",
      "For inline: ['|0|1|', '|1|2|', '|2|3|', '|3|4|', '|4|5|', '|5|6|', '|6|7|', '|7|8|', '|8|9|', '|9|10|']\n",
      "Lista: [1, 2, 3, 4, 5, 6, 7, 8, 9, 10]\n",
      "1|2|3|4|5|6|7|8|9|10\n"
     ]
    }
   ],
   "source": [
    "lista = [1,2,3,4,5,6,7,8,9,10]\n",
    "# for simple\n",
    "for i,value in enumerate(lista):\n",
    "    print(f\"Lista: |{i}|{value}|\")\n",
    "# for inline\n",
    "print(f\"For inline: {[f'|{i}|{values}|' for i,values in enumerate(lista)]}\")\n",
    "#\n",
    "print(f\"Lista: {list(range(1,11,1))}\")\n",
    "print(*lista,sep='|')"
   ]
  },
  {
   "cell_type": "code",
   "execution_count": 20,
   "metadata": {},
   "outputs": [
    {
     "name": "stdout",
     "output_type": "stream",
     "text": [
      "1 2 3\n",
      "4 5 6\n",
      "7 8 9\n"
     ]
    },
    {
     "data": {
      "text/plain": [
       "[None, None, None]"
      ]
     },
     "execution_count": 20,
     "metadata": {},
     "output_type": "execute_result"
    }
   ],
   "source": [
    "matriz = [[1,2,3],[4,5,6],[7,8,9]]\n",
    "#\n",
    "\"\"\"\n",
    "for fila in matriz:\n",
    "    for columna in fila:\n",
    "        print(columna)\n",
    "\"\"\"        \n",
    "#\n",
    "r=[print(*fila) for fila in matriz]\n",
    "r"
   ]
  },
  {
   "cell_type": "markdown",
   "metadata": {},
   "source": [
    "## "
   ]
  }
 ],
 "metadata": {
  "interpreter": {
   "hash": "091d7f3169c8ccc1d87feff241fcea6f302a0132ce2874b70e96d9a81a8f37ef"
  },
  "kernelspec": {
   "display_name": "Python 3.8.12 ('base')",
   "language": "python",
   "name": "python3"
  },
  "language_info": {
   "codemirror_mode": {
    "name": "ipython",
    "version": 3
   },
   "file_extension": ".py",
   "mimetype": "text/x-python",
   "name": "python",
   "nbconvert_exporter": "python",
   "pygments_lexer": "ipython3",
   "version": "3.8.12"
  },
  "orig_nbformat": 4
 },
 "nbformat": 4,
 "nbformat_minor": 2
}
